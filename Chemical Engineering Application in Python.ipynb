{
 "cells": [
  {
   "cell_type": "markdown",
   "id": "04a5c98e",
   "metadata": {},
   "source": [
    "# Soave Redlich Kwong Equation"
   ]
  },
  {
   "cell_type": "code",
   "execution_count": 39,
   "id": "85096fe9",
   "metadata": {},
   "outputs": [],
   "source": [
    "# n-butane Redlich-Kwong-Soave, Eq. (2.5)\n",
    "def specvolRKS(v, p):\n",
    "    # in K, atm, l/gmol\n",
    "    # for n-butane\n",
    "    Tc = 425.2\n",
    "    pc = 37.5\n",
    "    T = 500\n",
    "    R = 0.08206\n",
    "    acentric = 0.193\n",
    "    mRKS = 0.480 + (1.574 - 0.176*acentric)*acentric\n",
    "    alphaRKS = (1 + mRKS *(1-(T/Tc)**0.5)) ** 2\n",
    "    aRKS = 0.42748 * alphaRKS * (R * Tc) ** 2 / pc\n",
    "    bRKS = 0.08664 * (R * Tc / pc)\n",
    "    return p * v ** 3 - R * T * v ** 2 + (aRKS - p * bRKS ** 2 - R * T * bRKS) * v - aRKS * bRKS"
   ]
  },
  {
   "cell_type": "code",
   "execution_count": 41,
   "id": "ac0e3976",
   "metadata": {},
   "outputs": [
    {
     "name": "stdout",
     "output_type": "stream",
     "text": [
      "-235.8958950207389\n"
     ]
    }
   ],
   "source": [
    "print(specvolRKS(3, 4))"
   ]
  }
 ],
 "metadata": {
  "kernelspec": {
   "display_name": "Python 3 (ipykernel)",
   "language": "python",
   "name": "python3"
  },
  "language_info": {
   "codemirror_mode": {
    "name": "ipython",
    "version": 3
   },
   "file_extension": ".py",
   "mimetype": "text/x-python",
   "name": "python",
   "nbconvert_exporter": "python",
   "pygments_lexer": "ipython3",
   "version": "3.11.5"
  }
 },
 "nbformat": 4,
 "nbformat_minor": 5
}
