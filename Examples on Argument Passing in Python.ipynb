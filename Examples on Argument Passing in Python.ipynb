{
 "cells": [
  {
   "cell_type": "markdown",
   "id": "719cdc64",
   "metadata": {},
   "source": [
    "# Positional Arguments\n",
    "    "
   ]
  },
  {
   "cell_type": "code",
   "execution_count": 1,
   "id": "52978b01",
   "metadata": {},
   "outputs": [
    {
     "name": "stdout",
     "output_type": "stream",
     "text": [
      "Alice is enrolled in Mathematics class.\n"
     ]
    }
   ],
   "source": [
    "def student_information(class_name, student_name):\n",
    "    # Display information about a student and their class.\n",
    "    print(student_name + \" is enrolled in \" + class_name + \" class.\")\n",
    "# Positional arguments:\n",
    "student_information('Mathematics', 'Alice')"
   ]
  },
  {
   "cell_type": "markdown",
   "id": "6bcf426f",
   "metadata": {},
   "source": [
    "# Keyword Arguments"
   ]
  },
  {
   "cell_type": "code",
   "execution_count": 14,
   "id": "fff4bab4",
   "metadata": {},
   "outputs": [],
   "source": [
    "def student_information(class_name, student_name):\n",
    "    # Display information about a student and their class.\n",
    "    print(student_name + \" is enrolled in \" + class_name + \" class.\")"
   ]
  },
  {
   "cell_type": "markdown",
   "id": "08981839",
   "metadata": {},
   "source": [
    "# function calling"
   ]
  },
  {
   "cell_type": "code",
   "execution_count": 16,
   "id": "9b56a87f",
   "metadata": {},
   "outputs": [
    {
     "name": "stdout",
     "output_type": "stream",
     "text": [
      "Ahmed is enrolled in Python class.\n"
     ]
    }
   ],
   "source": [
    "student_information(student_name=\"Ahmed\", class_name=\"Python\")"
   ]
  },
  {
   "cell_type": "markdown",
   "id": "8f9f0d53",
   "metadata": {},
   "source": [
    "# Default Arguments"
   ]
  },
  {
   "cell_type": "code",
   "execution_count": 20,
   "id": "05b2dc63",
   "metadata": {},
   "outputs": [
    {
     "name": "stdout",
     "output_type": "stream",
     "text": [
      "Student Name: Lina\n",
      "Enrolled Course: Introduction to Python\n"
     ]
    }
   ],
   "source": [
    "def enroll_student(student_name, course='Introduction to Python'):\n",
    "    # Enroll a student in a course with a default option.\n",
    "     print(\"Student Name: \" + student_name)\n",
    "     print(\"Enrolled Course: \" + course)\n",
    "# Using the default argument for course:\n",
    "enroll_student(student_name='Lina')"
   ]
  },
  {
   "cell_type": "code",
   "execution_count": 18,
   "id": "f87a59f1",
   "metadata": {},
   "outputs": [
    {
     "name": "stdout",
     "output_type": "stream",
     "text": [
      "Student Name: Ali\n",
      "Enrolled Course: Introduction to Python\n"
     ]
    }
   ],
   "source": [
    "enroll_student(\"Ali\")"
   ]
  },
  {
   "cell_type": "code",
   "execution_count": 19,
   "id": "f04f8c37",
   "metadata": {},
   "outputs": [
    {
     "name": "stdout",
     "output_type": "stream",
     "text": [
      "Student Name: Ali\n",
      "Enrolled Course: Physics\n"
     ]
    }
   ],
   "source": [
    "enroll_student(\"Ali\", \"Physics\")"
   ]
  },
  {
   "cell_type": "code",
   "execution_count": 8,
   "id": "947cd5fd",
   "metadata": {},
   "outputs": [
    {
     "name": "stdout",
     "output_type": "stream",
     "text": [
      "Student Name: Sara\n",
      "Enrolled Course: Data Structures\n"
     ]
    }
   ],
   "source": [
    "def enroll_student(student_name, course='Introduction to Python'):\n",
    "    # Enroll a student in a course with a default option.\n",
    "     print(\"Student Name: \" + student_name)\n",
    "     print(\"Enrolled Course: \" + course)\n",
    "# Overriding the default argument for course:\n",
    "enroll_student(student_name='Sara', course='Data Structures')"
   ]
  },
  {
   "cell_type": "markdown",
   "id": "d4c60e54",
   "metadata": {},
   "source": [
    "# Variable-length Arguments *"
   ]
  },
  {
   "cell_type": "code",
   "execution_count": 9,
   "id": "6f96ea9c",
   "metadata": {},
   "outputs": [
    {
     "name": "stdout",
     "output_type": "stream",
     "text": [
      "Student: Emily\n",
      "Enrolled in:\n",
      "- Biology 101\n",
      "- Chemistry 101\n",
      "- Physics 101\n"
     ]
    }
   ],
   "source": [
    "def enroll_in_courses(student_name, *courses):\n",
    "    # Enroll a student in multiple courses.\n",
    "    print(\"Student: \" + student_name)\n",
    "    print(\"Enrolled in:\")\n",
    "    for course in courses:\n",
    "        print(\"- \" + course)\n",
    "# Example of enrolling a student in three different courses:\n",
    "enroll_in_courses('Emily', 'Biology 101', 'Chemistry 101', 'Physics 101')"
   ]
  },
  {
   "cell_type": "code",
   "execution_count": 22,
   "id": "77185ca8",
   "metadata": {},
   "outputs": [
    {
     "name": "stdout",
     "output_type": "stream",
     "text": [
      "Student: Sara\n",
      "Enrolled in:\n",
      "- English\n",
      "- Programming\n",
      "- Physics\n"
     ]
    }
   ],
   "source": [
    "enroll_in_courses(\"Sara\", \"English\", \"Programming\", \"Physics\")"
   ]
  },
  {
   "cell_type": "code",
   "execution_count": 12,
   "id": "3fa0ee82",
   "metadata": {},
   "outputs": [
    {
     "name": "stdout",
     "output_type": "stream",
     "text": [
      "Enrolling Smith with the following details:\n",
      "- Course: Algebra II\n",
      "- Semester: One\n",
      "- Payment Method: Credit Card\n"
     ]
    }
   ],
   "source": [
    "def enroll_student(student_name, **details):\n",
    "     # Enroll a student with additional details.\n",
    "    print(\"Enrolling \" + student_name + \" with the following details:\")\n",
    "    for detail, value in details.items():\n",
    "        print(\"- \" + detail.replace('_', ' ').title() + \": \" + str(value))\n",
    "# Example of enrolling a student with additional details:\n",
    "enroll_student('Smith', course='Algebra II', semester='One', payment_method='Credit Card')"
   ]
  },
  {
   "cell_type": "code",
   "execution_count": 24,
   "id": "413518f1",
   "metadata": {},
   "outputs": [
    {
     "name": "stdout",
     "output_type": "stream",
     "text": [
      "Checkout processed by Sarah Connor:\n",
      "Books checked out:\n",
      "- 1984\n",
      "- Brave New World\n",
      "Checkout duration: 3 weeks\n",
      "Late fee per day: $0.25\n",
      "Renewals allowed: 2\n",
      "Special conditions: Handle with care\n",
      "Checkout complete.\n",
      "\n"
     ]
    }
   ],
   "source": [
    "def checkout_books(librarian_name, *book_titles, duration='2 weeks', **kwargs):\n",
    "    print(f\"Checkout processed by {librarian_name}:\")\n",
    "    \n",
    "    if not book_titles:\n",
    "        print(\"No books specified for checkout.\")\n",
    "        return\n",
    "    \n",
    "    print(\"Books checked out:\")\n",
    "    for book_title in book_titles:\n",
    "        print(f\"- {book_title}\")\n",
    "\n",
    "    print(f\"Checkout duration: {duration}\")\n",
    "\n",
    "    if 'late_fee_per_day' in kwargs:\n",
    "        late_fee_per_day = kwargs['late_fee_per_day']\n",
    "        print(f\"Late fee per day: ${late_fee_per_day}\")\n",
    "        \n",
    "    if 'renewals_allowed' in kwargs:\n",
    "        renewals_allowed = kwargs['renewals_allowed']\n",
    "        print(f\"Renewals allowed: {renewals_allowed}\")   \n",
    "\n",
    "    if 'special_conditions' in kwargs:\n",
    "        special_conditions = kwargs['special_conditions']\n",
    "        print(f\"Special conditions: {special_conditions}\")\n",
    "\n",
    "    print(\"Checkout complete.\\n\")\n",
    "\n",
    "# Example usage:\n",
    "checkout_books(\"Sarah Connor\", \"1984\", \"Brave New World\", duration='3 weeks', late_fee_per_day=0.25, renewals_allowed=2, special_conditions=\"Handle with care\")"
   ]
  },
  {
   "cell_type": "code",
   "execution_count": null,
   "id": "6016a6af",
   "metadata": {},
   "outputs": [],
   "source": []
  }
 ],
 "metadata": {
  "kernelspec": {
   "display_name": "Python 3 (ipykernel)",
   "language": "python",
   "name": "python3"
  },
  "language_info": {
   "codemirror_mode": {
    "name": "ipython",
    "version": 3
   },
   "file_extension": ".py",
   "mimetype": "text/x-python",
   "name": "python",
   "nbconvert_exporter": "python",
   "pygments_lexer": "ipython3",
   "version": "3.11.5"
  }
 },
 "nbformat": 4,
 "nbformat_minor": 5
}
