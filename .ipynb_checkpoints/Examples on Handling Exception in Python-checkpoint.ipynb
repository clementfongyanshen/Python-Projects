{
 "cells": [
  {
   "cell_type": "code",
   "execution_count": 1,
   "id": "a0717950",
   "metadata": {},
   "outputs": [
    {
     "name": "stdout",
     "output_type": "stream",
     "text": [
      "Error\n"
     ]
    }
   ],
   "source": [
    "try:\n",
    "    x = \"2\" + 2\n",
    "except:\n",
    "    # Code that runs if the exception occurs\n",
    "    print(\"Error\")"
   ]
  },
  {
   "cell_type": "code",
   "execution_count": 2,
   "id": "5cb42f34",
   "metadata": {},
   "outputs": [
    {
     "name": "stdout",
     "output_type": "stream",
     "text": [
      "The data that you input is not int\n"
     ]
    }
   ],
   "source": [
    "try:\n",
    "    x = \"2\" + 2\n",
    "except:\n",
    "    # Code that runs if the exception occurs\n",
    "    print(\"The data that you input is not int\")"
   ]
  },
  {
   "cell_type": "code",
   "execution_count": 3,
   "id": "76577457",
   "metadata": {},
   "outputs": [
    {
     "name": "stdout",
     "output_type": "stream",
     "text": [
      "This is an error\n"
     ]
    }
   ],
   "source": [
    "try:\n",
    "    x = \"2\" + 2\n",
    "except:\n",
    "    # Code that runs if the exception occurs\n",
    "    print(\"This is an error\")"
   ]
  },
  {
   "cell_type": "code",
   "execution_count": 3,
   "id": "4608f9f2",
   "metadata": {},
   "outputs": [
    {
     "name": "stdout",
     "output_type": "stream",
     "text": [
      "This is an error\n"
     ]
    }
   ],
   "source": [
    "try:\n",
    "    x = \"2\" + 2\n",
    "except TypeError:\n",
    "    # Code that runs if the exception occures\n",
    "    print(\"This is an error\")\n",
    "except ValueError:\n",
    "    print(\"the input data is not a number\")"
   ]
  },
  {
   "cell_type": "code",
   "execution_count": null,
   "id": "0b32bd0e",
   "metadata": {},
   "outputs": [],
   "source": [
    "try:\n",
    "    number = int(input(\"Enter a number: \"))\n",
    "except ValueError:\n",
    "    print(\"That's not a number!\")\n",
    "else:\n",
    "    print(\"You entered a number!\")\n",
    "finally:\n",
    "    print(\"This is executed no matter what!\")"
   ]
  },
  {
   "cell_type": "code",
   "execution_count": null,
   "id": "d39cf091",
   "metadata": {},
   "outputs": [],
   "source": [
    "def simple_calculator():\n",
    "    while True:\n",
    "        try:\n",
    "            # Ask the user for two numbers and an operation\n",
    "            num1 = float(input(\"Enter the first number: \"))\n",
    "            num2 = float(input(\"Enter the second number: \"))\n",
    "            operation = input(\"Enter an operation (+, -, *, /):\")\n",
    "\n",
    "            # Perform the calculation based on the operation\n",
    "            if operation == '+':\n",
    "                result = num1 + num2\n",
    "            elif operation == '-':\n",
    "                result = num1 - num2\n",
    "            elif operation == '*':\n",
    "                result = num1 * num2\n",
    "            elif operation == '/':\n",
    "                # Check for division by zero\n",
    "                if num2 == 0:\n",
    "                    print ZeroDivisionError(\"Error: Division by zero is not allowed.\")\n",
    "                result = num1 / num2\n",
    "            else:\n",
    "                print ValueError(\"Error: Invalid operation. Please enter +, -, *, or /.\")\n",
    "\n",
    "            # Display the result\n",
    "            print(\"Result: \", result)\n",
    "\n",
    "            # Exit the loop if the calculation is successful\n",
    "            break\n",
    "\n",
    "        except ValueError as ve:\n",
    "            print(ve)\n",
    "            print(\"Please enter valid numbers and try again.\\n\")\n",
    "\n",
    "        except ZeroDivisionError as zde:\n",
    "            print(zde)\n",
    "            print(\"Please enter a non-zero second number for division.\\n\")\n",
    "\n",
    "        except Exception as e:\n",
    "            print(\"An error occurred:\", e)\n",
    "            print(\"Please try again with valid input.\\n\")\n",
    "\n",
    "# Call the function to run the calculator\n",
    "simple_calculator()"
   ]
  }
 ],
 "metadata": {
  "kernelspec": {
   "display_name": "Python 3 (ipykernel)",
   "language": "python",
   "name": "python3"
  },
  "language_info": {
   "codemirror_mode": {
    "name": "ipython",
    "version": 3
   },
   "file_extension": ".py",
   "mimetype": "text/x-python",
   "name": "python",
   "nbconvert_exporter": "python",
   "pygments_lexer": "ipython3",
   "version": "3.11.5"
  }
 },
 "nbformat": 4,
 "nbformat_minor": 5
}
